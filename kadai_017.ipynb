{
  "nbformat": 4,
  "nbformat_minor": 0,
  "metadata": {
    "colab": {
      "provenance": [],
      "authorship_tag": "ABX9TyM6+O/CAw0qdtPXa7ATcr4v",
      "include_colab_link": true
    },
    "kernelspec": {
      "name": "python3",
      "display_name": "Python 3"
    },
    "language_info": {
      "name": "python"
    }
  },
  "cells": [
    {
      "cell_type": "markdown",
      "metadata": {
        "id": "view-in-github",
        "colab_type": "text"
      },
      "source": [
        "<a href=\"https://colab.research.google.com/github/atsukotanaka/python-basic-kadai/blob/main/kadai_017.ipynb\" target=\"_parent\"><img src=\"https://colab.research.google.com/assets/colab-badge.svg\" alt=\"Open In Colab\"/></a>"
      ]
    },
    {
      "cell_type": "code",
      "execution_count": null,
      "metadata": {
        "id": "2e25snA7oGBU"
      },
      "outputs": [],
      "source": [
        "class Human:\n",
        "   def __init__(self, name, age):\n",
        "     self.name = name\n",
        "     self.age = age\n",
        "\n",
        "   def check_adult(self):\n",
        "      if self.age >= 20:\n",
        "         print(f\"{self.name} is an adult.\")\n",
        "      else:\n",
        "         print(f\"{self.name} is not an adult.\")\n",
        "\n",
        "humans = [\n",
        "         Human(\"Sam\", 26),\n",
        "         Human(\"Rai\", 17),\n",
        "         Human(\"Hana\", 35)\n",
        "]\n",
        "\n",
        "for person in humans:\n",
        "     person.check_adult()"
      ]
    }
  ]
}