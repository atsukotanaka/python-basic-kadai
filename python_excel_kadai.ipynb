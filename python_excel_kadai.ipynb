{
  "nbformat": 4,
  "nbformat_minor": 0,
  "metadata": {
    "colab": {
      "provenance": [],
      "authorship_tag": "ABX9TyM1RHVQ8DBtqrvZ6jBtS1ml",
      "include_colab_link": true
    },
    "kernelspec": {
      "name": "python3",
      "display_name": "Python 3"
    },
    "language_info": {
      "name": "python"
    }
  },
  "cells": [
    {
      "cell_type": "markdown",
      "metadata": {
        "id": "view-in-github",
        "colab_type": "text"
      },
      "source": [
        "<a href=\"https://colab.research.google.com/github/atsukotanaka/python-basic-kadai/blob/main/python_excel_kadai.ipynb\" target=\"_parent\"><img src=\"https://colab.research.google.com/assets/colab-badge.svg\" alt=\"Open In Colab\"/></a>"
      ]
    },
    {
      "cell_type": "code",
      "execution_count": 83,
      "metadata": {
        "id": "ZBKEgNEtfcm0"
      },
      "outputs": [],
      "source": [
        "import openpyxl\n",
        "import pandas as pd\n",
        "from openpyxl.styles import PatternFill, Font\n",
        "\n",
        "file_list = ['2022_年間売上表.xlsx', '2023_年間売上表.xlsx']\n",
        "df = pd.concat([pd.read_excel(file, header=0, names=['売上年', '商品', '金額(千円)']) for file in file_list], ignore_index=True)\n",
        "grouped = df.groupby(['商品', '売上年']).agg({'金額(千円)': 'sum'}).reset_index()\n",
        "\n",
        "grouped.to_excel('売上集計表.xlsx', index=False)\n",
        "\n",
        "workbook = openpyxl.load_workbook('売上集計表.xlsx')\n",
        "\n",
        "worksheet = workbook.active\n",
        "\n",
        "for rows in worksheet.iter_rows(min_row=1, max_row=1, min_col=1, max_col=worksheet.max_column) :\n",
        "    for cell in rows:\n",
        "      cell.fill = PatternFill(patternType='solid', fgColor='F2F2F2', bgColor='F2F2F2')\n",
        "for rows in worksheet.iter_rows(min_row=1, max_row=17, min_col=1, max_col=worksheet.max_column) :\n",
        "    for cell in rows:\n",
        "      cell.font = Font(name='Calibri', size=14, bold=True)\n",
        "\n",
        "workbook.save('売上集計表.xlsx')\n"
      ]
    }
  ]
}