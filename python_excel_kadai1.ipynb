{
  "nbformat": 4,
  "nbformat_minor": 0,
  "metadata": {
    "colab": {
      "provenance": [],
      "authorship_tag": "ABX9TyPZUEYKuMh22kHzI5d2sjOb",
      "include_colab_link": true
    },
    "kernelspec": {
      "name": "python3",
      "display_name": "Python 3"
    },
    "language_info": {
      "name": "python"
    }
  },
  "cells": [
    {
      "cell_type": "markdown",
      "metadata": {
        "id": "view-in-github",
        "colab_type": "text"
      },
      "source": [
        "<a href=\"https://colab.research.google.com/github/atsukotanaka/python-basic-kadai/blob/main/python_excel_kadai1.ipynb\" target=\"_parent\"><img src=\"https://colab.research.google.com/assets/colab-badge.svg\" alt=\"Open In Colab\"/></a>"
      ]
    },
    {
      "cell_type": "code",
      "execution_count": 9,
      "metadata": {
        "id": "Ky_jHMdZLAyu"
      },
      "outputs": [],
      "source": [
        "import pandas as pd\n",
        "import openpyxl\n",
        "from datetime import datetime\n",
        "\n",
        "workbook = openpyxl.Workbook()\n",
        "\n",
        "worksheet = workbook.active\n",
        "\n",
        "company_name = \"株式会社ABC\"\n",
        "address = \"〒101-0022 東京都千代田区神田練塀町300\"\n",
        "tel_fax = \"TEL:03-1234-5678 FAX:03-1234-5678\"\n",
        "contact_person = \"担当者名:鈴木一郎 様\"\n",
        "current_date = datetime.now().strftime(\"%Y/%m/%d\")\n",
        "\n",
        "worksheet['B2'] = \"請求書\"\n",
        "worksheet['B4'] = company_name\n",
        "worksheet['B5'] = address\n",
        "worksheet['B6'] = tel_fax\n",
        "worksheet['B7'] = contact_person\n",
        "worksheet['F4'] = \"No.\"\n",
        "worksheet['G4'] = \"0001\"\n",
        "worksheet['F5'] = \"日付:\"\n",
        "worksheet['G5'] = current_date\n",
        "\n",
        "date_cell = worksheet['B7']\n",
        "\n",
        "worksheet['B10'] = \"商品名\"\n",
        "worksheet['C10'] = \"数量\"\n",
        "worksheet['D10'] = \"単価\"\n",
        "worksheet['E10'] = \"金額\"\n",
        "worksheet['B11'] = \"商品A\"\n",
        "worksheet['B12'] = \"商品B\"\n",
        "worksheet['C11'] = 2\n",
        "worksheet['C12'] = 1\n",
        "worksheet['D11'] = 10000\n",
        "worksheet['D12'] = 15000\n",
        "worksheet['E11'] = (2 *10000)\n",
        "worksheet['E12'] = (1 *15000)\n",
        "\n",
        "total = (2 * 10000) + (1 * 15000)\n",
        "\n",
        "worksheet['E13'] = total\n",
        "\n",
        "worksheet['B15'] = \"小計\"\n",
        "worksheet['B16'] = \"消費税\"\n",
        "worksheet['B17'] = \"合計\"\n",
        "worksheet['E15'] = total\n",
        "worksheet['E16'] = total * 0.1\n",
        "worksheet['E17'] = total + (total * 0.1)\n",
        "\n",
        "workbook.save(\"請求書_20230520.xlsx\")\n",
        "\n",
        "workbook.close()"
      ]
    },
    {
      "cell_type": "code",
      "source": [],
      "metadata": {
        "id": "qVUjzx-znTR0"
      },
      "execution_count": null,
      "outputs": []
    }
  ]
}