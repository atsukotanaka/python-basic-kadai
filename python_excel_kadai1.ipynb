{
  "nbformat": 4,
  "nbformat_minor": 0,
  "metadata": {
    "colab": {
      "provenance": [],
      "authorship_tag": "ABX9TyOzogjWAyudRY8VEQm4Csh6",
      "include_colab_link": true
    },
    "kernelspec": {
      "name": "python3",
      "display_name": "Python 3"
    },
    "language_info": {
      "name": "python"
    }
  },
  "cells": [
    {
      "cell_type": "markdown",
      "metadata": {
        "id": "view-in-github",
        "colab_type": "text"
      },
      "source": [
        "<a href=\"https://colab.research.google.com/github/atsukotanaka/python-basic-kadai/blob/main/python_excel_kadai1.ipynb\" target=\"_parent\"><img src=\"https://colab.research.google.com/assets/colab-badge.svg\" alt=\"Open In Colab\"/></a>"
      ]
    },
    {
      "cell_type": "code",
      "execution_count": 3,
      "metadata": {
        "id": "Ky_jHMdZLAyu"
      },
      "outputs": [],
      "source": [
        "import openpyxl\n",
        "from datetime import datetime\n",
        "\n",
        "wb = openpyxl.Workbook()\n",
        "\n",
        "sheet = wb.active\n",
        "\n",
        "company_name = \"株式会社ABC\"\n",
        "address = \"〒101-0022 東京都千代田区神田練塀町300\"\n",
        "tel_fax = \"TEL:03-1234-5678 FAX:03-1234-5678\"\n",
        "contact_person = \"担当者名:鈴木一郎 様\"\n",
        "current_date = datetime.now().strftime(\"%Y/%m/%d\")\n",
        "\n",
        "sheet['B2'] = \"請求書\"\n",
        "sheet['B4'] = company_name\n",
        "sheet['B5'] = address\n",
        "sheet['B6'] = tel_fax\n",
        "sheet['B7'] = contact_person\n",
        "sheet['B10'] = \"商品名\"\n",
        "sheet['B11'] = \"商品A\"\n",
        "sheet['B12'] = \"商品B\"\n",
        "sheet['B15'] = \"合計\"\n",
        "sheet['B16'] = \"消費税\"\n",
        "sheet['B17'] = \"税込合計\"\n",
        "sheet['C10'] = \"数量\"\n",
        "sheet['C11'] = 2\n",
        "sheet['C12'] = 1\n",
        "sheet['D10'] = \"単価\"\n",
        "sheet['D11'] = 10000\n",
        "sheet['D12'] = 15000\n",
        "sheet['E10'] = \"金額\"\n",
        "sheet['E11'] = 20000\n",
        "sheet['E12'] = 15000\n",
        "sheet['E13'] = 35000\n",
        "sheet['E15'] = 35000\n",
        "sheet['E16'] = 3500\n",
        "sheet['E17'] = 38500\n",
        "sheet['G4'] = \"No.\"\n",
        "sheet['H4'] = \"0001\"\n",
        "sheet['G5'] = \"日付:\"\n",
        "sheet['H5'] = current_date\n",
        "\n",
        "date_cell = sheet['B7']\n",
        "\n",
        "wb.save(\"請求書_20230520.xlsx\")"
      ]
    }
  ]
}