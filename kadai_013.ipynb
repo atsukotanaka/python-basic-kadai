{
  "nbformat": 4,
  "nbformat_minor": 0,
  "metadata": {
    "colab": {
      "provenance": [],
      "authorship_tag": "ABX9TyO2WUU7TFAxa7ZGfZYow7Pv",
      "include_colab_link": true
    },
    "kernelspec": {
      "name": "python3",
      "display_name": "Python 3"
    },
    "language_info": {
      "name": "python"
    }
  },
  "cells": [
    {
      "cell_type": "markdown",
      "metadata": {
        "id": "view-in-github",
        "colab_type": "text"
      },
      "source": [
        "<a href=\"https://colab.research.google.com/github/atsukotanaka/python-basic-kadai/blob/main/kadai_013.ipynb\" target=\"_parent\"><img src=\"https://colab.research.google.com/assets/colab-badge.svg\" alt=\"Open In Colab\"/></a>"
      ]
    },
    {
      "cell_type": "code",
      "source": [
        "def calculate_total(price, tax = 0.1):\n",
        "    total = price* (1+ tax)\n",
        "    return total\n",
        "\n",
        "price = 1000\n",
        "tax = 0.1\n",
        "\n",
        "total = calculate_total(price, tax)\n",
        "print(f\"合計金額{total}円\")"
      ],
      "metadata": {
        "colab": {
          "base_uri": "https://localhost:8080/"
        },
        "id": "zl6C_lSwFiPm",
        "outputId": "dd5dd24c-15e4-46a4-90d5-3e9dc78cb45e"
      },
      "execution_count": 16,
      "outputs": [
        {
          "output_type": "stream",
          "name": "stdout",
          "text": [
            "合計金額1100.0円\n"
          ]
        }
      ]
    }
  ]
}